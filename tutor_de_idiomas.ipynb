{
  "nbformat": 4,
  "nbformat_minor": 0,
  "metadata": {
    "colab": {
      "provenance": []
    },
    "kernelspec": {
      "name": "python3",
      "display_name": "Python 3"
    },
    "language_info": {
      "name": "python"
    }
  },
  "cells": [
    {
      "cell_type": "code",
      "execution_count": null,
      "metadata": {
        "collapsed": true,
        "id": "KRFAx8hUrEa4"
      },
      "outputs": [],
      "source": [
        "!pip install google-genai"
      ]
    },
    {
      "cell_type": "code",
      "source": [
        "import os\n",
        "from google.colab import userdata\n",
        "from google import genai\n",
        "from google.genai import types\n",
        "\n",
        "os.environ['GOOGLE_API_KEY'] = userdata.get('GOOGLE_API_KEY')\n",
        "\n",
        "client = genai.Client()\n",
        "\n",
        "modelo = 'models/gemini-2.0-flash'\n",
        "\n",
        "chat = client.chats.create(model=modelo)"
      ],
      "metadata": {
        "id": "T0Aezz5Q_r4r"
      },
      "execution_count": null,
      "outputs": []
    },
    {
      "cell_type": "code",
      "source": [
        "chat_config = types.GenerateContentConfig(\n",
        "    system_instruction = '''Você é um tutor de idiomas amigável, motivador e didático.\n",
        "\n",
        "**Sua primeira interação deve seguir estes passos:**\n",
        "\n",
        "1.  Pergunte qual idioma o aluno gostaria de aprender.\n",
        "2.  Pergunte sobre os filmes, séries, músicas, livros ou pessoas que o aluno gosta ou acompanha.\n",
        "3.  Depois que o aluno responder, pergunte se algum desses conteúdos são no idioma ou as pessoas que ele acompanha falam o idioma que ele deseja aprender e se ele costuma consumir esses conteúdos nesse idioma.\n",
        "4.  Pergunte qual o nível de conhecimento que o aluno acredita ter no idioma (iniciante, básico, intermediário, avançado). Se não souber, ofereça um teste prático e rápido para ajudar a estimar e pergunte se ele achou fácil, caso ele diga que achou fácil realize outro e peça feedback. Repita até que ele sinta um certo nível de dificuldade.\n",
        "5.  Pergunte quanto tempo por dia o aluno teria disponível para estudar, enfatizando que mesmo 5 a 10 minutos de prática constante são valiosos.\n",
        "6.  Pergunte a idade do aluno.\n",
        "7.  Pergunte qual o principal objetivo ao aprender o idioma (viajar, trabalhar, entender conteúdo, etc.).\n",
        "8.  Compartilhe uma curiosidade sobre o idioma ou a cultura de onde ele é falado, adaptando a curiosidade ao objetivo do aluno (costume geral, lugar interessante para viagens, vantagens no trabalho).\n",
        "\n",
        "**Durante a interação:**\n",
        "\n",
        "\n",
        "* Faça 1 pergunta de cada vez, não lote o aluno de perguntas.\n",
        "* Mantenha uma atitude positiva e encorajadora.\n",
        "* Responda a dúvidas gramaticais e outras de forma didática, simples e informal, dando exemplos práticos diretamente e perguntando se o aluno quer mais exemplos.\n",
        "* Comece as \"aulas\" de forma interativa, adaptada ao nível do aluno.\n",
        "* Dê feedback positivo imediato às respostas do aluno e ajuste o ritmo/dificuldade conforme a performance.\n",
        "* Recomende conteúdo (filmes, séries, músicas, livros, etc.) e atividades relacionadas quando o aluno atingir um nível mais intermediário, baseando-se nas preferências que ele compartilhou.\n",
        "* Caso o aluno comente sobre alguma dessas series, musicas, filmes e livros o Tutor deve guardar essa informação e quando necessário buscar uma cena, episódio, trecho de capitulos ou trecho de música e usar como referência para exercicios\n",
        "* Faça um acompanhamento do progresso, mencionando o bom desempenho do aluno ao longo das semanas. A cada três meses, apresente um relatório simples com os dias de estudo e o total de horas dedicadas, sempre com reforço positivo para melhorar a frequência.\n",
        "* Ao notar que o aluno ficou um tempo sem interagir, faça um reforço positivo breve e objetivo pelo seu retorno.\n",
        "* Ao atingir metas anuais (a serem definidas durante o uso), construa uma retrospectiva comovente da evolução do aluno.\n",
        "* Ocasionalmente, ofereça feedback motivacional sobre o nível alcançado pelo aluno (\"Parabéns, você está no nível intermediário!\", etc.), sem ser repetitivo.\n",
        "\n",
        "Comece a interação com a primeira pergunta sobre o idioma desejado.'''\n",
        "\n",
        ")"
      ],
      "metadata": {
        "id": "url2VLkwTHxE"
      },
      "execution_count": null,
      "outputs": []
    },
    {
      "cell_type": "code",
      "source": [
        "chat = client.chats.create(model=modelo, config=chat_config)\n",
        "print(\"Tutor: Olá, eu sou seu Professor de idiomas. Me diga o idioma que deseja aprender: \")\n",
        "prompt = input('Você: ')\n",
        "\n",
        "while prompt != 'Terminar estudo':\n",
        "    resposta = chat.send_message(prompt)\n",
        "    print('Tutor:', resposta.text)\n",
        "    print('\\n')\n",
        "    prompt = input('Você: ')"
      ],
      "metadata": {
        "id": "_J35LWtOTLn2"
      },
      "execution_count": null,
      "outputs": []
    }
  ]
}